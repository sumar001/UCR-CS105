{
 "cells": [
  {
   "cell_type": "markdown",
   "metadata": {
    "colab_type": "text",
    "id": "__1JBcfGnOHj"
   },
   "source": [
    "# The Distribution of First Digits\n",
    "\n",
    "In this lab, you will explore the distribution of first digits in real data. For example, the first digits of the numbers 52, 30.8, and 0.07 are 5, 3, and 7 respectively. In this lab, you will investigate the question: how frequently does each digit 1-9 appear as the first digit of the number?\n"
   ]
  },
  {
   "cell_type": "markdown",
   "metadata": {
    "colab_type": "text",
    "id": "iJ0is3PhnOHl"
   },
   "source": [
    "## Question 0\n",
    "\n",
    "Make a prediction. \n",
    "\n",
    "1. Approximately what percentage of the values do you think will have a _first_ digit of 1? What percentage of the values do you think will have a first digit of 9?\n",
    "2. Approximately what percentage of the values do you think will have a _last_ digit of 1? What percentage of the values do you think will have a last digit of 9?\n",
    "\n",
    "(Don't worry about being wrong. You will earn full credit for any justified answer.)"
   ]
  },
  {
   "cell_type": "markdown",
   "metadata": {
    "colab_type": "text",
    "id": "D4Kxu2djnOHm"
   },
   "source": [
    "1. After looking at the dataset, I see alot values in the range of 100-199 so I predict about 25% of the values will be starting with 1 and approximately 8% will by starting with 9 (giving an equal chance as other digits except 1).\n",
    "\n",
    "2. My prediction is that 10% of the values might have 1 as their last digit. Similarly, I predict 10% of values might have 9 as the last digit. Giving each digit and equal chance of being the last digit of a value."
   ]
  },
  {
   "cell_type": "markdown",
   "metadata": {
    "colab_type": "text",
    "id": "Dyc5U7u7nOHn"
   },
   "source": [
    "## Question 1\n",
    "\n",
    "The [S&P 500](https://en.wikipedia.org/wiki/S%26P_500_Index) is a stock index based on the market capitalizations of large companies that are publicly traded on the NYSE or NASDAQ. The CSV file `sp500.csv` contains data from February 1, 2018 about the stocks that comprise the S&P 500. We will investigate the first digit distributions of the variables in this data set.\n",
    "\n",
    "Read in the S&P 500 data. What is the unit of observation in this data set? Is there a variable that is natural to use as the index? If so, set that variable to be the index. Once you are done, display the `DataFrame`."
   ]
  },
  {
   "cell_type": "code",
   "execution_count": 1,
   "metadata": {
    "colab": {},
    "colab_type": "code",
    "id": "vX2M_vUAnOHr",
    "outputId": "9e1819ee-c8d0-441c-f9cc-5e1bc8558716"
   },
   "outputs": [
    {
     "data": {
      "text/html": [
       "<div>\n",
       "<style scoped>\n",
       "    .dataframe tbody tr th:only-of-type {\n",
       "        vertical-align: middle;\n",
       "    }\n",
       "\n",
       "    .dataframe tbody tr th {\n",
       "        vertical-align: top;\n",
       "    }\n",
       "\n",
       "    .dataframe thead th {\n",
       "        text-align: right;\n",
       "    }\n",
       "</style>\n",
       "<table border=\"1\" class=\"dataframe\">\n",
       "  <thead>\n",
       "    <tr style=\"text-align: right;\">\n",
       "      <th></th>\n",
       "      <th>date</th>\n",
       "      <th>Name</th>\n",
       "      <th>open</th>\n",
       "      <th>close</th>\n",
       "      <th>volume</th>\n",
       "    </tr>\n",
       "  </thead>\n",
       "  <tbody>\n",
       "    <tr>\n",
       "      <th>0</th>\n",
       "      <td>2018-02-01</td>\n",
       "      <td>AAL</td>\n",
       "      <td>$54.00</td>\n",
       "      <td>$53.88</td>\n",
       "      <td>3623078</td>\n",
       "    </tr>\n",
       "    <tr>\n",
       "      <th>1</th>\n",
       "      <td>2018-02-01</td>\n",
       "      <td>AAPL</td>\n",
       "      <td>$167.16</td>\n",
       "      <td>$167.78</td>\n",
       "      <td>47230787</td>\n",
       "    </tr>\n",
       "    <tr>\n",
       "      <th>2</th>\n",
       "      <td>2018-02-01</td>\n",
       "      <td>AAP</td>\n",
       "      <td>$116.24</td>\n",
       "      <td>$117.29</td>\n",
       "      <td>760629</td>\n",
       "    </tr>\n",
       "    <tr>\n",
       "      <th>3</th>\n",
       "      <td>2018-02-01</td>\n",
       "      <td>ABBV</td>\n",
       "      <td>$112.24</td>\n",
       "      <td>$116.34</td>\n",
       "      <td>9943452</td>\n",
       "    </tr>\n",
       "    <tr>\n",
       "      <th>4</th>\n",
       "      <td>2018-02-01</td>\n",
       "      <td>ABC</td>\n",
       "      <td>$97.74</td>\n",
       "      <td>$99.29</td>\n",
       "      <td>2786798</td>\n",
       "    </tr>\n",
       "  </tbody>\n",
       "</table>\n",
       "</div>"
      ],
      "text/plain": [
       "         date  Name     open    close    volume\n",
       "0  2018-02-01   AAL   $54.00   $53.88   3623078\n",
       "1  2018-02-01  AAPL  $167.16  $167.78  47230787\n",
       "2  2018-02-01   AAP  $116.24  $117.29    760629\n",
       "3  2018-02-01  ABBV  $112.24  $116.34   9943452\n",
       "4  2018-02-01   ABC   $97.74   $99.29   2786798"
      ]
     },
     "execution_count": 1,
     "metadata": {},
     "output_type": "execute_result"
    }
   ],
   "source": [
    "# ENTER YOUR CODE HERE.\n",
    "import pandas as pd\n",
    "df = pd.read_csv(\"sp500.csv\")\n",
    "df.head()"
   ]
  },
  {
   "cell_type": "markdown",
   "metadata": {
    "colab_type": "text",
    "id": "7QlsiUNInOHz"
   },
   "source": [
    "The unit of observation would be the \"Name\" because each company name/symbol represents a specific compnay. Hence, to find the open and close values of a specific comany, by indexing the 'name' it will be easier to locate them."
   ]
  },
  {
   "cell_type": "code",
   "execution_count": 2,
   "metadata": {},
   "outputs": [
    {
     "name": "stdout",
     "output_type": "stream",
     "text": [
      "            date     open    close    volume\n",
      "Name                                        \n",
      "AAL   2018-02-01   $54.00   $53.88   3623078\n",
      "AAPL  2018-02-01  $167.16  $167.78  47230787\n",
      "AAP   2018-02-01  $116.24  $117.29    760629\n",
      "ABBV  2018-02-01  $112.24  $116.34   9943452\n",
      "ABC   2018-02-01   $97.74   $99.29   2786798\n",
      "...          ...      ...      ...       ...\n",
      "XYL   2018-02-01   $72.50   $74.84   1817612\n",
      "YUM   2018-02-01   $84.24   $83.98   1685275\n",
      "ZBH   2018-02-01  $126.35  $128.19   1756300\n",
      "ZION  2018-02-01   $53.79   $54.98   3542047\n",
      "ZTS   2018-02-01   $76.84   $77.82   2982259\n",
      "\n",
      "[505 rows x 4 columns]\n"
     ]
    }
   ],
   "source": [
    "#Setting \"Name\" as the index\n",
    "df_by_name = df.set_index(\"Name\")\n",
    "print(df_by_name)\n",
    "#df_by_name.head()\n"
   ]
  },
  {
   "cell_type": "markdown",
   "metadata": {
    "colab_type": "text",
    "id": "GKW3GDWYnOHz"
   },
   "source": [
    "## Question 2\n",
    "\n",
    "We will start by looking at the `volume` column. This variable tells us how many shares were traded on that date.\n",
    "\n",
    "Extract the first digit of every value in this column. (_Hint:_ First, turn the numbers into strings. Then, use the [text processing functionalities](https://pandas.pydata.org/pandas-docs/stable/text.html) of `pandas` to extract the first character of each string.) Make an appropriate visualization to display the distribution of the first digits. (_Hint:_ Think carefully about whether the variable you are plotting is quantitative or categorical.)\n",
    "\n",
    "How does this compare with what you predicted in Question 0?"
   ]
  },
  {
   "cell_type": "code",
   "execution_count": 3,
   "metadata": {
    "colab": {},
    "colab_type": "code",
    "id": "MyTVgillnOH0",
    "outputId": "e828b101-6fe7-47ad-f0ed-81b83a0ee9f4"
   },
   "outputs": [
    {
     "data": {
      "text/plain": [
       "<matplotlib.axes._subplots.AxesSubplot at 0x7fe0741f4908>"
      ]
     },
     "execution_count": 3,
     "metadata": {},
     "output_type": "execute_result"
    },
    {
     "data": {
      "image/png": "[encoded data removed]",
      "text/plain": [
       "<Figure size 432x288 with 1 Axes>"
      ]
     },
     "metadata": {
      "needs_background": "light"
     },
     "output_type": "display_data"
    }
   ],
   "source": [
    "# ENTER YOUR CODE HERE.\n",
    "df.volume = df.volume.apply(str)\n",
    "first_digits = df.volume.str[0]\n",
    "first_digits.value_counts()\n",
    "\n",
    "import matplotlib \n",
    "%matplotlib inline\n",
    "\n",
    "df_first = first_digits.value_counts()\n",
    "df_first.plot.bar()"
   ]
  },
  {
   "cell_type": "markdown",
   "metadata": {
    "colab_type": "text",
    "id": "Gg3msmSZnOIE"
   },
   "source": [
    "In general terms, my prediction in question 0 conforms to these results as I had predicted that values starting with 1 will be more than the other digits as the values starting digit. However, the percentage value I predicted might not be exactly accurate."
   ]
  },
  {
   "cell_type": "markdown",
   "metadata": {
    "colab_type": "text",
    "id": "fw4kZAVmnOIF"
   },
   "source": [
    "## Question 3\n",
    "\n",
    "Now, repeat Question 2, but for the distribution of _last_ digits. Again, make an appropriate visualization and compare with your prediction in Question 0."
   ]
  },
  {
   "cell_type": "code",
   "execution_count": 4,
   "metadata": {
    "colab": {},
    "colab_type": "code",
    "id": "oovgcTUFnOIL"
   },
   "outputs": [
    {
     "data": {
      "text/plain": [
       "<matplotlib.axes._subplots.AxesSubplot at 0x7fe071a8f1d0>"
      ]
     },
     "execution_count": 4,
     "metadata": {},
     "output_type": "execute_result"
    },
    {
     "data": {
      "image/png": "[encoded data removed]",
      "text/plain": [
       "<Figure size 432x288 with 1 Axes>"
      ]
     },
     "metadata": {
      "needs_background": "light"
     },
     "output_type": "display_data"
    }
   ],
   "source": [
    "# ENTER YOUR CODE HERE.\n",
    "df.volume = df.volume.apply(str)\n",
    "last_digits = df.volume.str[-1]\n",
    "last_digits.value_counts()\n",
    "\n",
    "import matplotlib \n",
    "%matplotlib inline\n",
    "\n",
    "df_last = last_digits.value_counts()\n",
    "df_last.plot.bar()\n"
   ]
  },
  {
   "cell_type": "markdown",
   "metadata": {
    "colab_type": "text",
    "id": "Wk1hWz2_nOIY"
   },
   "source": [
    "My prediction in question 0 was close to the actual result, however, not entirely same. Most of the digits have an approximately an equal chance of being the last digit."
   ]
  },
  {
   "cell_type": "markdown",
   "metadata": {
    "colab_type": "text",
    "id": "JSJYFTMAnOIZ"
   },
   "source": [
    "## Question 4\n",
    "\n",
    "Maybe the `volume` column was just a fluke. Let's see if the first digit distribution holds up when we look at a very different variable: the closing price of the stock. Make a visualization of the first digit distribution of the closing price (the `close` column of the `DataFrame`). Comment on what you see.\n",
    "\n",
    "(_Hint:_ What type did `pandas` infer this variable as and why? You will have to first clean the values using the [text processing functionalities](https://pandas.pydata.org/pandas-docs/stable/text.html) of `pandas` and then convert this variable to a quantitative variable.)"
   ]
  },
  {
   "cell_type": "code",
   "execution_count": 5,
   "metadata": {
    "colab": {},
    "colab_type": "code",
    "id": "8Xvx4HyhnOIa"
   },
   "outputs": [
    {
     "name": "stdout",
     "output_type": "stream",
     "text": [
      "1    171\n",
      "2     55\n",
      "3     52\n",
      "6     48\n",
      "4     43\n",
      "7     43\n",
      "5     39\n",
      "8     28\n",
      "9     26\n",
      "Name: close, dtype: int64\n"
     ]
    },
    {
     "data": {
      "text/plain": [
       "<matplotlib.axes._subplots.AxesSubplot at 0x7fe0719abcc0>"
      ]
     },
     "execution_count": 5,
     "metadata": {},
     "output_type": "execute_result"
    },
    {
     "data": {
      "image/png": "[encoded data removed]",
      "text/plain": [
       "<Figure size 432x288 with 1 Axes>"
      ]
     },
     "metadata": {
      "needs_background": "light"
     },
     "output_type": "display_data"
    }
   ],
   "source": [
    "# ENTER YOUR CODE HERE.\n",
    "df.close = df.close.apply(str)\n",
    "df.close = df.close.str.strip(\"$\")\n",
    "first_digits = df.close.str[0]\n",
    "cnt = first_digits.value_counts()\n",
    "print(cnt)\n",
    "\n",
    "import matplotlib\n",
    "%matplotlib inline\n",
    "\n",
    "df_close_first = first_digits.value_counts()\n",
    "df_close_first.plot.bar()"
   ]
  },
  {
   "cell_type": "markdown",
   "metadata": {
    "colab_type": "text",
    "id": "S5EGwnx1nOIj"
   },
   "source": [
    "The panda initially referred the dtype as \"object\" because the column had the \"$\" symbol. Therefore, we had to clean the data in order for the pandas to convert the variable to a quantitative type.\n",
    "\n",
    "We can observe from the bar plot that indeed the digit distribution was not a fluke. Therefore, after looking at the \"close\" variable we can conclude that the digit distribution does hold as we compare the bar plots from question 2 and this question. There is not alot of difference between the two plots."
   ]
  },
  {
   "cell_type": "markdown",
   "metadata": {
    "colab_type": "text",
    "id": "N6klhgAUnOIk"
   },
   "source": [
    "## Submission Instructions\n",
    "\n",
    "Once you are finished, follow these steps:\n",
    "\n",
    "1. Restart the kernel and re-run this notebook from beginning to end by going to `Kernel > Restart Kernel and Run All Cells`.\n",
    "2. If this process stops halfway through, that means there was an error. Correct the error and repeat Step 1 until the notebook runs from beginning to end.\n",
    "3. Double check that there is a number next to each code cell and that these numbers are in order.\n",
    "\n",
    "Then, submit your lab as follows:\n",
    "\n",
    "1. Go to `File > Export Notebook As > PDF`.\n",
    "2. Double check that the entire notebook, from beginning to end, is in this PDF file. (If the notebook is cut off, try first exporting the notebook to HTML and printing to PDF.)\n",
    "3. Upload the PDF to iLearn. \n",
    "4. Have the TA check your lab to obtain credit. "
   ]
  }
 ],
 "metadata": {
  "colab": {
   "name": "1A. Distribution of First Digits.ipynb",
   "provenance": []
  },
  "kernelspec": {
   "display_name": "Python 3",
   "language": "python",
   "name": "python3"
  },
  "language_info": {
   "codemirror_mode": {
    "name": "ipython",
    "version": 3
   },
   "file_extension": ".py",
   "mimetype": "text/x-python",
   "name": "python",
   "nbconvert_exporter": "python",
   "pygments_lexer": "ipython3",
   "version": "3.6.8"
  }
 },
 "nbformat": 4,
 "nbformat_minor": 4
}
