{
 "cells": [
  {
   "cell_type": "markdown",
   "metadata": {
    "colab_type": "text",
    "id": "QyGyHllgvdJe"
   },
   "source": [
    "# 11.2 The XML Data Format\n",
    "\n",
    "**XML**, which stands for eXtensible Markup Language, is another way to represent hierarchical data. The basic building block of XML is the **tag**, denoted by angle brackets `<>`.\n",
    "\n",
    "For example, a data set of movies might be represented using XML as follows:\n",
    "\n",
    "```\n",
    "<movies>\n",
    "  <movie id=\"1\" title=\"The Godfather\">\n",
    "    <director id=\"50\" name=\"Coppola, Francis Ford\">\n",
    "    </director>\n",
    "    <releasedate>1972-03-24</releasedate>\n",
    "    <character id=\"100\" name=\"Vito Corleone\">\n",
    "      <actor id=\"200\" name=\"Brando, Marlon\">\n",
    "      </actor>\n",
    "    </character>\n",
    "    <character id=\"101\" name=\"Michael Corleone\">\n",
    "      <actor id=\"201\" name=\"Pacino, Al\">\n",
    "      </actor>\n",
    "    </character>\n",
    "    ...\n",
    "  </movie>\n",
    "  <movie id=\"2\" title=\"The Godfather: Part II\">\n",
    "    <director id=\"50\" name=\"Coppola, Francis Ford\">\n",
    "    </director>\n",
    "    <releasedate>1974-10-20</releasedate>\n",
    "    <character id=\"101\" name=\"Michael Corleone\">\n",
    "      <actor id=\"201\" name=\"Pacino, Al\">\n",
    "      </actor>\n",
    "    </character>\n",
    "    <character id=\"100\" name=\"Vito Corleone\">\n",
    "      <actor id=\"250\" name=\"De Niro, Robert\">\n",
    "      </actor>\n",
    "    </character>\n",
    "    ...\n",
    "  </movie>\n",
    "  ...\n",
    "</movies>\n",
    "```\n",
    "\n",
    "Note the following features of XML:\n",
    "\n",
    "- Every tag `<a>` has a corresponding closing tag `</a>`. You can always recognize a closing tag by the forward slash `/`.\n",
    "- Additional tags and/or strings can be nested between the opening and closing tags. In the example above, `<actor>` is nested between `<character>` and `</character>`, and `<character>` is nested between `<movie>` and `</movie>`. The nesting is used to represent hierarchy.\n",
    "- Indentation is used to make the code more readable (to make it easier to see the nesting structure). But it is optional.\n",
    "- Attributes can be associated with each tag, like `id=` and `name=` with the `<character>` tag and `id=` and `title=` with the `<movie>` tag.\n",
    "\n",
    "Each tag represents a variable in the data set. Unlike JSON, which uses lists to represent repeated fields, XML represents repeated fields by simply repeating tags where necessary. In the example above, there are multiple instances of `<movie>` within `<movies>` and multiple instances of `<character>` within `<movie>`, so `movie` and `character` are both repeated fields. (In fact, `director` is also a repeated field, but it is impossible to tell from the code above, since the movies shown above only have one director.)\n",
    "\n",
    "You will learn XML by working with a data set of programs by the New York Philharmonic (one of the leading orchestras in the world). First, let's take a peek at the data."
   ]
  },
  {
   "cell_type": "code",
   "execution_count": 1,
   "metadata": {
    "colab": {},
    "colab_type": "code",
    "id": "jfgpPkpZvdJh"
   },
   "outputs": [
    {
     "data": {
      "text/plain": [
       "'<?xml version=\"1.0\" encoding=\"utf-8\"?>\\n\\n<programs>\\n    <program>\\n        <id>94a27122-4552-43bc-b89a-7e95ca27900f-0.1</id>\\n        <programID>6407</programID>\\n        <orchestra>New York Philharmonic</orchestra>\\n        <season>1963-64</season>\\n        <concertInfo>\\n            <eventType>Tour</eventType>\\n            <Location>Hollywood, CA</Location>\\n            <Venue>Hollywood Bowl</Venue>\\n            <Date>1963-09-01T04:00:00Z</Date>\\n            <Time>8:30PM</Time>\\n        </concertInfo>\\n        <worksInfo>\\n            <work ID=\"51807*\">\\n                <composerName>Brahms,  Johannes</composerName>\\n                <workTitle>ACADEMIC FESTIVAL OVERTURE, OP.80</workTitle>\\n                <conductorName>Bernstein, Leonard</conductorName>\\n            </work>\\n            <work ID=\"51884*\">\\n                <composerName>Brahms,  Johannes</composerName>\\n                <workTitle>SYMPHONY NO. 4 IN E MINOR, OP. 98</workTitle>\\n                <conductorName>Bernstein, Leonard</conductorNam'"
      ]
     },
     "execution_count": 1,
     "metadata": {},
     "output_type": "execute_result"
    }
   ],
   "source": [
    "import requests\n",
    "response = requests.get(\"https://github.com/nyphilarchive/PerformanceHistory/blob/master/Programs/xml/1963-64_TO_1973-74.xml?raw=true\")\n",
    "response.text[:1000]"
   ]
  },
  {
   "cell_type": "markdown",
   "metadata": {
    "colab_type": "text",
    "id": "csKrF19kvdJm"
   },
   "source": [
    "Notice that this XML file is nearly twice as large as the JSON file. Although XML is more readable than JSON, it is a more expensive way to store hierarchical data, primarily because of the cost of storing both the opening and closing tags."
   ]
  },
  {
   "cell_type": "markdown",
   "metadata": {
    "colab_type": "text",
    "id": "xW2ARyjRvdJn"
   },
   "source": [
    "There are several libraries in Python for working with XML, including BeautifulSoup (which we will use in the next section to parse HTML), ElementTree, and `lxml`. We will use `lxml` to work with XML data because it is fastest for large data sets, provided that the data is well-formed. The `lxml` library provides a convenient API that replicates all of the functionality of ElementTree, plus implements a few additional features that are useful for data analysis."
   ]
  },
  {
   "cell_type": "code",
   "execution_count": 2,
   "metadata": {
    "colab": {},
    "colab_type": "code",
    "id": "E31WZaWIvdJo"
   },
   "outputs": [],
   "source": [
    "from lxml import etree"
   ]
  },
  {
   "cell_type": "markdown",
   "metadata": {
    "colab_type": "text",
    "id": "CXjxx4DavdJs"
   },
   "source": [
    "First, let's read in the data. Since we have the XML as a string in memory, we use the `etree.fromstring()` to load the data. Note that `.fromstring()` returns the root node."
   ]
  },
  {
   "cell_type": "code",
   "execution_count": 3,
   "metadata": {
    "colab": {},
    "colab_type": "code",
    "id": "sbOKlQPQvdJt"
   },
   "outputs": [
    {
     "data": {
      "text/plain": [
       "<Element programs at 0x102ee1c30>"
      ]
     },
     "execution_count": 3,
     "metadata": {},
     "output_type": "execute_result"
    }
   ],
   "source": [
    "string = response.text.encode()\n",
    "etree.fromstring(string)"
   ]
  },
  {
   "cell_type": "markdown",
   "metadata": {
    "colab_type": "text",
    "id": "IFY-eQq4vdJx"
   },
   "source": [
    "Each direct descendant, or **child**, of `<programs>` is a program. To find the direct descendants of a tag, we call the `.getchildren()` method."
   ]
  },
  {
   "cell_type": "code",
   "execution_count": 4,
   "metadata": {
    "colab": {},
    "colab_type": "code",
    "id": "o5-tatkzvdJy"
   },
   "outputs": [
    {
     "name": "stdout",
     "output_type": "stream",
     "text": [
      "968\n"
     ]
    },
    {
     "data": {
      "text/plain": [
       "[<Element program at 0x10444d5f0>,\n",
       " <Element program at 0x104439050>,\n",
       " <Element program at 0x104437dc0>,\n",
       " <Element program at 0x104437d70>,\n",
       " <Element program at 0x104437d20>,\n",
       " <Element program at 0x104437cd0>,\n",
       " <Element program at 0x104437c80>,\n",
       " <Element program at 0x104437c30>,\n",
       " <Element program at 0x104437be0>,\n",
       " <Element program at 0x104437820>]"
      ]
     },
     "execution_count": 4,
     "metadata": {},
     "output_type": "execute_result"
    }
   ],
   "source": [
    "programs = etree.fromstring(string)\n",
    "print(len(programs.getchildren()))\n",
    "programs.getchildren()[:10]"
   ]
  },
  {
   "cell_type": "markdown",
   "metadata": {
    "colab_type": "text",
    "id": "tJala9izvdJ2"
   },
   "source": [
    "Let's print out the first of these programs. There are two ways to get the first program."
   ]
  },
  {
   "cell_type": "code",
   "execution_count": 5,
   "metadata": {
    "colab": {},
    "colab_type": "code",
    "id": "qFi0ebeUvdJ3"
   },
   "outputs": [
    {
     "data": {
      "text/plain": [
       "<Element program at 0x10444d5f0>"
      ]
     },
     "execution_count": 5,
     "metadata": {},
     "output_type": "execute_result"
    }
   ],
   "source": [
    "# METHOD 1: Get it from the list above.\n",
    "program = programs.getchildren()[0]\n",
    "\n",
    "# METHOD 2: Use .find() to find the first instance of a tag.\n",
    "program = programs.find(\"program\")\n",
    "program"
   ]
  },
  {
   "cell_type": "markdown",
   "metadata": {
    "colab_type": "text",
    "id": "S1dHR-K5vdJ7"
   },
   "source": [
    "Now let's see how the data is represented by printing out the XML of this program. To do this, we use the `etree.tostring()` function."
   ]
  },
  {
   "cell_type": "code",
   "execution_count": 6,
   "metadata": {
    "colab": {},
    "colab_type": "code",
    "id": "I6w5b7QVvdJ8"
   },
   "outputs": [
    {
     "name": "stdout",
     "output_type": "stream",
     "text": [
      "<program>\n",
      "        <id>94a27122-4552-43bc-b89a-7e95ca27900f-0.1</id>\n",
      "        <programID>6407</programID>\n",
      "        <orchestra>New York Philharmonic</orchestra>\n",
      "        <season>1963-64</season>\n",
      "        <concertInfo>\n",
      "            <eventType>Tour</eventType>\n",
      "            <Location>Hollywood, CA</Location>\n",
      "            <Venue>Hollywood Bowl</Venue>\n",
      "            <Date>1963-09-01T04:00:00Z</Date>\n",
      "            <Time>8:30PM</Time>\n",
      "        </concertInfo>\n",
      "        <worksInfo>\n",
      "            <work ID=\"51807*\">\n",
      "                <composerName>Brahms,  Johannes</composerName>\n",
      "                <workTitle>ACADEMIC FESTIVAL OVERTURE, OP.80</workTitle>\n",
      "                <conductorName>Bernstein, Leonard</conductorName>\n",
      "            </work>\n",
      "            <work ID=\"51884*\">\n",
      "                <composerName>Brahms,  Johannes</composerName>\n",
      "                <workTitle>SYMPHONY NO. 4 IN E MINOR, OP. 98</workTitle>\n",
      "                <conductorName>Bernstein, Leonard</conductorName>\n",
      "            </work>\n",
      "            <work ID=\"0*\">\n",
      "                <interval>Intermission</interval>\n",
      "            </work>\n",
      "            <work ID=\"50247*\">\n",
      "                <composerName>Brahms,  Johannes</composerName>\n",
      "                <workTitle>CONCERTO, VIOLIN AND CELLO, OP. 102 (DOUBLE)</workTitle>\n",
      "                <conductorName>Bernstein, Leonard</conductorName>\n",
      "                <soloists>\n",
      "                    <soloist>\n",
      "                        <soloistName>Heifetz, Jascha</soloistName>\n",
      "                        <soloistInstrument>Violin</soloistInstrument>\n",
      "                        <soloistRoles>S</soloistRoles>\n",
      "                    </soloist>\n",
      "                    <soloist>\n",
      "                        <soloistName>Piatigorsky, Gregor</soloistName>\n",
      "                        <soloistInstrument>Cello</soloistInstrument>\n",
      "                        <soloistRoles>S</soloistRoles>\n",
      "                    </soloist>\n",
      "                </soloists>\n",
      "            </work>\n",
      "        </worksInfo>\n",
      "    </program>\n",
      "    \n"
     ]
    }
   ],
   "source": [
    "print(etree.tostring(program, encoding=\"unicode\"))"
   ]
  },
  {
   "cell_type": "markdown",
   "metadata": {
    "colab_type": "text",
    "id": "XSUvNrjwvdKA"
   },
   "source": [
    "Hopefully, the structure of this data is self-explanatory. \"Work\", \"concertInfo\", and \"soloist\" are repeated fields inside \"program\". One difference between JSON and XML is that \"work\" is not directly nested within \"program\"; the \"work\" tags are all nested inside an additional \"worksInfo\" tag.\n",
    "\n",
    "Now suppose that we want to flatten the data at the level of soloists. To get all of the soloists, we can use the `.findall()` method. Let's first try the obvious solution, which does not work:"
   ]
  },
  {
   "cell_type": "code",
   "execution_count": 7,
   "metadata": {
    "colab": {},
    "colab_type": "code",
    "id": "s9i-njDfvdKA"
   },
   "outputs": [
    {
     "data": {
      "text/plain": [
       "[]"
      ]
     },
     "execution_count": 7,
     "metadata": {},
     "output_type": "execute_result"
    }
   ],
   "source": [
    "programs.findall(\"soloist\")"
   ]
  },
  {
   "cell_type": "markdown",
   "metadata": {
    "colab_type": "text",
    "id": "robAtJ9HvdKE"
   },
   "source": [
    "Why did `lxml` fail to find any `<soloist>` tags? That's because `.findall()` only searches among the direct descendants of a tag. We called `.findall()` on the `<programs>` tag, but all of its descendants are `<program>` tags.\n",
    "\n",
    "To specify that `lxml` should look for `<soloist>` tags among all descendants, not just direct ones, we use the `.xpath()` command, which allows us to specify an XPath expression. [XPath](https://www.w3schools.com/xml/xpath_syntax.asp) is a language used to select nodes from XML documents. The XPath expression to select all descendants named `<soloist>` of the current tag is `\".//soloist\"`. We pass this expression to the `.xpath()` method."
   ]
  },
  {
   "cell_type": "code",
   "execution_count": 8,
   "metadata": {
    "colab": {},
    "colab_type": "code",
    "id": "_uttRgR_vdKG"
   },
   "outputs": [
    {
     "data": {
      "text/plain": [
       "3493"
      ]
     },
     "execution_count": 8,
     "metadata": {},
     "output_type": "execute_result"
    }
   ],
   "source": [
    "soloists = programs.xpath(\".//soloist\")\n",
    "len(soloists)"
   ]
  },
  {
   "cell_type": "markdown",
   "metadata": {
    "colab_type": "text",
    "id": "U4DuDZwovdKK"
   },
   "source": [
    "Now, to flatten the data at the level of soloists, we just need to turn `soloists` into a `DataFrame` with as many rows. But what if we want to include information from parent levels, like the composer of the work the soloist played? There are two ways.\n",
    "\n",
    "### Method 1\n",
    "\n",
    "Since `<composerName>` is a descendant of `<work>`, one way is to navigate up to the level of `<work>` by calling `.getparent()` repeatedly and then find `<composerName>` among its descendants:"
   ]
  },
  {
   "cell_type": "code",
   "execution_count": 9,
   "metadata": {
    "colab": {},
    "colab_type": "code",
    "id": "D9Kg9hUlvdKM"
   },
   "outputs": [
    {
     "data": {
      "text/plain": [
       "[<Element composerName at 0x1043c3c80>]"
      ]
     },
     "execution_count": 9,
     "metadata": {},
     "output_type": "execute_result"
    }
   ],
   "source": [
    "soloist = soloists[0]\n",
    "\n",
    "# The first .getparent() returns the <soloists> tag.\n",
    "# The second .getparent() returns the <work> tag.\n",
    "# You have to figure this out by inspecting the XML.\n",
    "work = soloist.getparent().getparent()\n",
    "work.xpath(\".//composerName\")"
   ]
  },
  {
   "cell_type": "markdown",
   "metadata": {
    "colab_type": "text",
    "id": "IZ4VbUaXvdKP"
   },
   "source": [
    "This is a list with one tag, so we extract that tag and the text inside it."
   ]
  },
  {
   "cell_type": "code",
   "execution_count": 10,
   "metadata": {
    "colab": {},
    "colab_type": "code",
    "id": "26pcHWRhvdKQ"
   },
   "outputs": [
    {
     "data": {
      "text/plain": [
       "'Brahms,  Johannes'"
      ]
     },
     "execution_count": 10,
     "metadata": {},
     "output_type": "execute_result"
    }
   ],
   "source": [
    "work.xpath(\".//composerName\")[0].text"
   ]
  },
  {
   "cell_type": "markdown",
   "metadata": {
    "colab_type": "text",
    "id": "2Yu6aKzjvdKT"
   },
   "source": [
    "### Method 2\n",
    "\n",
    "As the number of levels of nesting increases, it quickly becomes impractical to call `.getparent()` repeatedly. We want to be able to jump directly to the right ancestor. The easiest way to do this is to use the XPath expression for an ancestor. To search for all ancestors named \"work\", we can use the XPath expression `\"ancestor::work\"`."
   ]
  },
  {
   "cell_type": "code",
   "execution_count": 11,
   "metadata": {
    "colab": {},
    "colab_type": "code",
    "id": "ml8fzZkAvdKV"
   },
   "outputs": [
    {
     "data": {
      "text/plain": [
       "[<Element work at 0x1043c3c30>]"
      ]
     },
     "execution_count": 11,
     "metadata": {},
     "output_type": "execute_result"
    }
   ],
   "source": [
    "soloist.xpath(\"ancestor::work\")"
   ]
  },
  {
   "cell_type": "markdown",
   "metadata": {
    "colab_type": "text",
    "id": "cXx8WTkqvdKZ"
   },
   "source": [
    "Now, we can extract this single work tag and find its descendants named `<composerName>`. Or better yet, we can combine this step with the above step into a single XPath expression."
   ]
  },
  {
   "cell_type": "code",
   "execution_count": 12,
   "metadata": {
    "colab": {},
    "colab_type": "code",
    "id": "B9JboMOVvdKa"
   },
   "outputs": [
    {
     "data": {
      "text/plain": [
       "'Brahms,  Johannes'"
      ]
     },
     "execution_count": 12,
     "metadata": {},
     "output_type": "execute_result"
    }
   ],
   "source": [
    "soloist.xpath(\"ancestor::work//composerName\")[0].text"
   ]
  },
  {
   "cell_type": "markdown",
   "metadata": {
    "colab_type": "text",
    "id": "p9VkUaMGvdKe"
   },
   "source": [
    "Now let's put it all together. We will flatten the data to get a `DataFrame` with one soloist per row. We will keep track of the soloist's name, instrument, and role---as well as the composer of the work they performed. Unfortunately, it is much more manual to do this with XML than with JSON. There is no XML equivalent of the `json_normalize` function that will automatically produce a `DataFrame`, so we have to construct the `DataFrame` ourselves."
   ]
  },
  {
   "cell_type": "code",
   "execution_count": 13,
   "metadata": {
    "colab": {},
    "colab_type": "code",
    "id": "MCxAvgxnvdKf"
   },
   "outputs": [
    {
     "data": {
      "text/html": [
       "<div>\n",
       "<style scoped>\n",
       "    .dataframe tbody tr th:only-of-type {\n",
       "        vertical-align: middle;\n",
       "    }\n",
       "\n",
       "    .dataframe tbody tr th {\n",
       "        vertical-align: top;\n",
       "    }\n",
       "\n",
       "    .dataframe thead th {\n",
       "        text-align: right;\n",
       "    }\n",
       "</style>\n",
       "<table border=\"1\" class=\"dataframe\">\n",
       "  <thead>\n",
       "    <tr style=\"text-align: right;\">\n",
       "      <th></th>\n",
       "      <th>soloistName</th>\n",
       "      <th>soloistInstrument</th>\n",
       "      <th>soloistRoles</th>\n",
       "      <th>composerName</th>\n",
       "    </tr>\n",
       "  </thead>\n",
       "  <tbody>\n",
       "    <tr>\n",
       "      <th>0</th>\n",
       "      <td>Heifetz, Jascha</td>\n",
       "      <td>Violin</td>\n",
       "      <td>S</td>\n",
       "      <td>Brahms,  Johannes</td>\n",
       "    </tr>\n",
       "    <tr>\n",
       "      <th>1</th>\n",
       "      <td>Piatigorsky, Gregor</td>\n",
       "      <td>Cello</td>\n",
       "      <td>S</td>\n",
       "      <td>Brahms,  Johannes</td>\n",
       "    </tr>\n",
       "    <tr>\n",
       "      <th>2</th>\n",
       "      <td>Watts, Andre (André)</td>\n",
       "      <td>Piano</td>\n",
       "      <td>S</td>\n",
       "      <td>Liszt,  Franz</td>\n",
       "    </tr>\n",
       "    <tr>\n",
       "      <th>3</th>\n",
       "      <td>Curtin, Phyllis</td>\n",
       "      <td>Soprano</td>\n",
       "      <td>S</td>\n",
       "      <td>Strauss,  Richard</td>\n",
       "    </tr>\n",
       "    <tr>\n",
       "      <th>4</th>\n",
       "      <td>Raskin, Judith</td>\n",
       "      <td>Soprano</td>\n",
       "      <td>S</td>\n",
       "      <td>Strauss,  Richard</td>\n",
       "    </tr>\n",
       "    <tr>\n",
       "      <th>...</th>\n",
       "      <td>...</td>\n",
       "      <td>...</td>\n",
       "      <td>...</td>\n",
       "      <td>...</td>\n",
       "    </tr>\n",
       "    <tr>\n",
       "      <th>3488</th>\n",
       "      <td>Cerminaro, John</td>\n",
       "      <td>French Horn</td>\n",
       "      <td>A</td>\n",
       "      <td>Mahler,  Gustav</td>\n",
       "    </tr>\n",
       "    <tr>\n",
       "      <th>3489</th>\n",
       "      <td>Bernstein, Leonard</td>\n",
       "      <td>Piano</td>\n",
       "      <td>S</td>\n",
       "      <td>Mozart,  Wolfgang  Amadeus</td>\n",
       "    </tr>\n",
       "    <tr>\n",
       "      <th>3490</th>\n",
       "      <td>Cerminaro, John</td>\n",
       "      <td>French Horn</td>\n",
       "      <td>A</td>\n",
       "      <td>Mahler,  Gustav</td>\n",
       "    </tr>\n",
       "    <tr>\n",
       "      <th>3491</th>\n",
       "      <td>Bernstein, Leonard</td>\n",
       "      <td>Piano</td>\n",
       "      <td>S</td>\n",
       "      <td>Mozart,  Wolfgang  Amadeus</td>\n",
       "    </tr>\n",
       "    <tr>\n",
       "      <th>3492</th>\n",
       "      <td>Cerminaro, John</td>\n",
       "      <td>French Horn</td>\n",
       "      <td>A</td>\n",
       "      <td>Mahler,  Gustav</td>\n",
       "    </tr>\n",
       "  </tbody>\n",
       "</table>\n",
       "<p>3493 rows × 4 columns</p>\n",
       "</div>"
      ],
      "text/plain": [
       "               soloistName soloistInstrument soloistRoles  \\\n",
       "0          Heifetz, Jascha            Violin            S   \n",
       "1      Piatigorsky, Gregor             Cello            S   \n",
       "2     Watts, Andre (André)             Piano            S   \n",
       "3          Curtin, Phyllis           Soprano            S   \n",
       "4           Raskin, Judith           Soprano            S   \n",
       "...                    ...               ...          ...   \n",
       "3488       Cerminaro, John       French Horn            A   \n",
       "3489    Bernstein, Leonard             Piano            S   \n",
       "3490       Cerminaro, John       French Horn            A   \n",
       "3491    Bernstein, Leonard             Piano            S   \n",
       "3492       Cerminaro, John       French Horn            A   \n",
       "\n",
       "                    composerName  \n",
       "0              Brahms,  Johannes  \n",
       "1              Brahms,  Johannes  \n",
       "2                  Liszt,  Franz  \n",
       "3              Strauss,  Richard  \n",
       "4              Strauss,  Richard  \n",
       "...                          ...  \n",
       "3488             Mahler,  Gustav  \n",
       "3489  Mozart,  Wolfgang  Amadeus  \n",
       "3490             Mahler,  Gustav  \n",
       "3491  Mozart,  Wolfgang  Amadeus  \n",
       "3492             Mahler,  Gustav  \n",
       "\n",
       "[3493 rows x 4 columns]"
      ]
     },
     "execution_count": 13,
     "metadata": {},
     "output_type": "execute_result"
    }
   ],
   "source": [
    "import pandas as pd\n",
    "\n",
    "rows = []\n",
    "\n",
    "soloists = programs.xpath(\".//soloist\")\n",
    "for soloist in soloists:\n",
    "    row = {}\n",
    "    row[\"soloistName\"] = soloist.find(\"soloistName\").text\n",
    "    row[\"soloistInstrument\"] = soloist.find(\"soloistInstrument\").text\n",
    "    row[\"soloistRoles\"] = soloist.find(\"soloistRoles\").text\n",
    "    row[\"composerName\"] = soloist.xpath(\"ancestor::work//composerName\")[0].text\n",
    "    rows.append(row)\n",
    "    \n",
    "df_soloists = pd.DataFrame(rows)\n",
    "df_soloists"
   ]
  },
  {
   "cell_type": "markdown",
   "metadata": {
    "colab_type": "text",
    "id": "iTdT9STqvdKi"
   },
   "source": [
    "Now, this is a `DataFrame` that we can analyze easily. For example, here is how many times Benny Goodman programmed a work by Weber with the NY Phil:"
   ]
  },
  {
   "cell_type": "code",
   "execution_count": 14,
   "metadata": {
    "colab": {},
    "colab_type": "code",
    "id": "uf9ztdJPvdKj"
   },
   "outputs": [
    {
     "data": {
      "text/plain": [
       "Weber,  Carl  Maria Von       2\n",
       "Copland,  Aaron               1\n",
       "Mozart,  Wolfgang  Amadeus    1\n",
       "Name: composerName, dtype: int64"
      ]
     },
     "execution_count": 14,
     "metadata": {},
     "output_type": "execute_result"
    }
   ],
   "source": [
    "df_soloists[df_soloists[\"soloistName\"] == \"Goodman, Benny\"].composerName.value_counts()"
   ]
  },
  {
   "cell_type": "markdown",
   "metadata": {
    "colab_type": "text",
    "id": "6mX14dslvdKl"
   },
   "source": [
    "# Exercises\n",
    "\n",
    "Exercises 1 and 2 deal with the New York Philharmonic data set from above."
   ]
  },
  {
   "cell_type": "markdown",
   "metadata": {
    "colab_type": "text",
    "id": "K8u3Gv_jvdKm"
   },
   "source": [
    "1\\. What is the most frequent start time for New York Philharmonic concerts?"
   ]
  },
  {
   "cell_type": "markdown",
   "metadata": {
    "colab_type": "text",
    "id": "a9cFF2bYvdKn"
   },
   "source": [
    "2\\. How many distinct works did the New York Philharmonic perform in the 1970-71 season?"
   ]
  },
  {
   "cell_type": "markdown",
   "metadata": {
    "colab_type": "text",
    "id": "aP0NNtDZvdKp"
   },
   "source": [
    "In Exercise 3, you will work with [data from the Meteorologisk Institutt of Norway](https://api.met.no/weatherapi/documentation), which returns weather data in XML form.\n",
    "\n",
    "If you run into unexpected errors, issue the same HTTP request from your browser to make sure that the data is in the format you expect."
   ]
  },
  {
   "cell_type": "markdown",
   "metadata": {
    "colab_type": "text",
    "id": "DBru1Ej4vdKq"
   },
   "source": [
    "3\\. Make a graph showing the forecasted temperature for the upcoming week in Oslo, Norway. Make a graphic that displays this information.\n",
    "\n",
    "(Hint: You may want to look up the latitude and longitude of Oslo.)"
   ]
  }
 ],
 "metadata": {
  "colab": {
   "name": "11.2 The XML Data Format.ipynb",
   "provenance": []
  },
  "kernelspec": {
   "display_name": "Python 3",
   "language": "python",
   "name": "python3"
  },
  "language_info": {
   "codemirror_mode": {
    "name": "ipython",
    "version": 3
   },
   "file_extension": ".py",
   "mimetype": "text/x-python",
   "name": "python",
   "nbconvert_exporter": "python",
   "pygments_lexer": "ipython3",
   "version": "3.7.6"
  }
 },
 "nbformat": 4,
 "nbformat_minor": 1
}
